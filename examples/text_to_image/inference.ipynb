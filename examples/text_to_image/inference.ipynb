{
 "cells": [
  {
   "cell_type": "code",
   "execution_count": 29,
   "id": "92177e71-65e3-4419-bc61-127ef7060d0c",
   "metadata": {
    "scrolled": true
   },
   "outputs": [
    {
     "name": "stderr",
     "output_type": "stream",
     "text": [
      "Loading pipeline components...: 100%|██████████| 7/7 [00:02<00:00,  2.57it/s]\n"
     ]
    },
    {
     "data": {
      "text/plain": [
       "StableDiffusionXLPipeline {\n",
       "  \"_class_name\": \"StableDiffusionXLPipeline\",\n",
       "  \"_diffusers_version\": \"0.25.0.dev0\",\n",
       "  \"_name_or_path\": \"stabilityai/stable-diffusion-xl-base-1.0\",\n",
       "  \"feature_extractor\": [\n",
       "    null,\n",
       "    null\n",
       "  ],\n",
       "  \"force_zeros_for_empty_prompt\": true,\n",
       "  \"image_encoder\": [\n",
       "    null,\n",
       "    null\n",
       "  ],\n",
       "  \"scheduler\": [\n",
       "    \"diffusers\",\n",
       "    \"EulerDiscreteScheduler\"\n",
       "  ],\n",
       "  \"text_encoder\": [\n",
       "    \"transformers\",\n",
       "    \"CLIPTextModel\"\n",
       "  ],\n",
       "  \"text_encoder_2\": [\n",
       "    \"transformers\",\n",
       "    \"CLIPTextModelWithProjection\"\n",
       "  ],\n",
       "  \"tokenizer\": [\n",
       "    \"transformers\",\n",
       "    \"CLIPTokenizer\"\n",
       "  ],\n",
       "  \"tokenizer_2\": [\n",
       "    \"transformers\",\n",
       "    \"CLIPTokenizer\"\n",
       "  ],\n",
       "  \"unet\": [\n",
       "    \"diffusers\",\n",
       "    \"UNet2DConditionModel\"\n",
       "  ],\n",
       "  \"vae\": [\n",
       "    \"diffusers\",\n",
       "    \"AutoencoderKL\"\n",
       "  ]\n",
       "}"
      ]
     },
     "execution_count": 29,
     "metadata": {},
     "output_type": "execute_result"
    }
   ],
   "source": [
    "from diffusers import StableDiffusionXLPipeline\n",
    "import torch\n",
    "\n",
    "model_path = \"/home/jovyan/data/nhirschkind/test_sd/Fri 15 Dec 2023 10:13:03 PM UTC/checkpoint-5000/\"\n",
    "pipe = StableDiffusionXLPipeline.from_pretrained(\"stabilityai/stable-diffusion-xl-base-1.0\", torch_dtype=torch.float16)\n",
    "pipe.unet.load_attn_procs(model_path)\n",
    "pipe.to(\"cuda:0\")\n",
    "\n",
    "# prompt = 'A high quality thumbnail of a top Roblox game called \"Toilet Tower Obby\"'\n",
    "# negative_prompt = 'low quality'\n",
    "# image = pipe(prompt, num_inference_steps=30, guidance_scale=7.5, negative_prompt=negative_prompt).images[0]\n",
    "# image.save(\"ftmodel.png\")"
   ]
  },
  {
   "cell_type": "code",
   "execution_count": 31,
   "id": "bbd8d745-9dfc-4b06-825c-015476f720e2",
   "metadata": {},
   "outputs": [
    {
     "name": "stderr",
     "output_type": "stream",
     "text": [
      "100%|██████████| 30/30 [00:12<00:00,  2.45it/s]\n"
     ]
    }
   ],
   "source": [
    "prompt = 'Attractive anime girl in a flowy black dress with flowers in her hair 4k trending on artstation'\n",
    "negative_prompt = 'low quality'\n",
    "images = pipe(prompt, num_inference_steps=30, guidance_scale=7.5, \n",
    "              negative_prompt=negative_prompt, num_images_per_prompt=4).images\n",
    "for i, im in enumerate(images):\n",
    "    im.save(f\"ftmodel{i}.png\")"
   ]
  },
  {
   "cell_type": "code",
   "execution_count": 28,
   "id": "8d700558-c675-47b9-b1ba-732d6eafd371",
   "metadata": {
    "scrolled": true
   },
   "outputs": [
    {
     "name": "stderr",
     "output_type": "stream",
     "text": [
      "Loading pipeline components...: 100%|██████████| 7/7 [00:03<00:00,  2.32it/s]\n"
     ]
    },
    {
     "data": {
      "text/plain": [
       "StableDiffusionXLPipeline {\n",
       "  \"_class_name\": \"StableDiffusionXLPipeline\",\n",
       "  \"_diffusers_version\": \"0.25.0.dev0\",\n",
       "  \"_name_or_path\": \"stabilityai/stable-diffusion-xl-base-1.0\",\n",
       "  \"feature_extractor\": [\n",
       "    null,\n",
       "    null\n",
       "  ],\n",
       "  \"force_zeros_for_empty_prompt\": true,\n",
       "  \"image_encoder\": [\n",
       "    null,\n",
       "    null\n",
       "  ],\n",
       "  \"scheduler\": [\n",
       "    \"diffusers\",\n",
       "    \"EulerDiscreteScheduler\"\n",
       "  ],\n",
       "  \"text_encoder\": [\n",
       "    \"transformers\",\n",
       "    \"CLIPTextModel\"\n",
       "  ],\n",
       "  \"text_encoder_2\": [\n",
       "    \"transformers\",\n",
       "    \"CLIPTextModelWithProjection\"\n",
       "  ],\n",
       "  \"tokenizer\": [\n",
       "    \"transformers\",\n",
       "    \"CLIPTokenizer\"\n",
       "  ],\n",
       "  \"tokenizer_2\": [\n",
       "    \"transformers\",\n",
       "    \"CLIPTokenizer\"\n",
       "  ],\n",
       "  \"unet\": [\n",
       "    \"diffusers\",\n",
       "    \"UNet2DConditionModel\"\n",
       "  ],\n",
       "  \"vae\": [\n",
       "    \"diffusers\",\n",
       "    \"AutoencoderKL\"\n",
       "  ]\n",
       "}"
      ]
     },
     "execution_count": 28,
     "metadata": {},
     "output_type": "execute_result"
    }
   ],
   "source": [
    "from diffusers import StableDiffusionXLPipeline\n",
    "import torch\n",
    "\n",
    "#model_path = \"/home/jovyan/data/nhirschkind/test_sd/Fri 15 Dec 2023 10:13:03 PM UTC/checkpoint-5000/\"\n",
    "pipe = StableDiffusionXLPipeline.from_pretrained(\"stabilityai/stable-diffusion-xl-base-1.0\", torch_dtype=torch.float16)\n",
    "#pipe.unet.load_attn_procs(model_path)\n",
    "pipe.to(\"cuda:0\")\n"
   ]
  },
  {
   "cell_type": "code",
   "execution_count": null,
   "id": "fb4fe989-bee3-4867-b759-53c49ab8e4f1",
   "metadata": {},
   "outputs": [],
   "source": [
    "prompt = 'A high quality thumbnail of a top Roblox game called \"Toilet Tower Obby\"'\n",
    "negative_prompt = 'low quality'\n",
    "images = pipe(prompt, num_inference_steps=30, guidance_scale=7.5, \n",
    "              negative_prompt=negative_prompt, num_images_per_prompt=4).images\n",
    "for i, im in enumerate(images):\n",
    "    im.save(f\"normalmodel{i}.png\")"
   ]
  },
  {
   "cell_type": "code",
   "execution_count": 26,
   "id": "970ee8ba-2446-4ac5-b090-d85492428b77",
   "metadata": {
    "scrolled": true
   },
   "outputs": [
    {
     "name": "stderr",
     "output_type": "stream",
     "text": [
      "Loading pipeline components...: 100%|██████████| 3/3 [00:00<00:00,  3.29it/s]\n",
      "Loading pipeline components...: 100%|██████████| 6/6 [00:01<00:00,  3.99it/s]\n",
      "100%|██████████| 25/25 [00:00<00:00, 32.21it/s]\n",
      "100%|██████████| 25/25 [00:02<00:00, 10.76it/s]\n"
     ]
    }
   ],
   "source": [
    "from diffusers import AutoPipelineForText2Image\n",
    "import torch\n",
    "\n",
    "pipe = AutoPipelineForText2Image.from_pretrained(\n",
    "    \"kandinsky-community/kandinsky-2-2-decoder\", torch_dtype=torch.float16\n",
    ")\n",
    "pipe.enable_model_cpu_offload()\n",
    "\n",
    "prompt = 'A high quality thumbnail of a AAA game called \"Toilet Tower Obby\"'\n",
    "\n",
    "image = pipe(prompt=prompt, num_inference_steps=25).images[0]"
   ]
  },
  {
   "cell_type": "code",
   "execution_count": 27,
   "id": "e6efabf0-b713-4781-8bf2-df583e93e44c",
   "metadata": {},
   "outputs": [
    {
     "name": "stderr",
     "output_type": "stream",
     "text": [
      "100%|██████████| 25/25 [00:00<00:00, 28.24it/s]\n",
      "100%|██████████| 30/30 [00:02<00:00, 10.56it/s]\n"
     ]
    }
   ],
   "source": [
    "prompt = 'A high quality thumbnail of a top Roblox game called \"Toilet Tower Obby\"'\n",
    "negative_prompt = 'low quality'\n",
    "images = pipe(prompt, num_inference_steps=30, guidance_scale=7.5, \n",
    "              negative_prompt=negative_prompt, num_images_per_prompt=4).images\n",
    "for i, im in enumerate(images):\n",
    "    im.save(f\"kandinsky{i}.png\")"
   ]
  },
  {
   "cell_type": "code",
   "execution_count": null,
   "id": "a0340bf0-695b-4da7-9245-7ca82d7ccffd",
   "metadata": {},
   "outputs": [],
   "source": []
  }
 ],
 "metadata": {
  "kernelspec": {
   "display_name": "Python 3 (ipykernel)",
   "language": "python",
   "name": "python3"
  },
  "language_info": {
   "codemirror_mode": {
    "name": "ipython",
    "version": 3
   },
   "file_extension": ".py",
   "mimetype": "text/x-python",
   "name": "python",
   "nbconvert_exporter": "python",
   "pygments_lexer": "ipython3",
   "version": "3.10.12"
  }
 },
 "nbformat": 4,
 "nbformat_minor": 5
}

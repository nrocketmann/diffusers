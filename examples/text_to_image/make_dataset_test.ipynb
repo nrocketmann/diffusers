{
 "cells": [
  {
   "cell_type": "code",
   "execution_count": 2,
   "id": "54a8b7e1-9c1d-4106-84ba-bbef7cd04671",
   "metadata": {},
   "outputs": [
    {
     "name": "stderr",
     "output_type": "stream",
     "text": [
      "/home/jovyan/.local/lib/python3.10/site-packages/tqdm/auto.py:22: TqdmWarning: IProgress not found. Please update jupyter and ipywidgets. See https://ipywidgets.readthedocs.io/en/stable/user_install.html\n",
      "  from .autonotebook import tqdm as notebook_tqdm\n"
     ]
    }
   ],
   "source": [
    "from roblox_ml.data import DataConnector\n",
    "import numpy as np\n",
    "import json\n",
    "import datasets\n",
    "import os\n",
    "import shutil"
   ]
  },
  {
   "cell_type": "code",
   "execution_count": 16,
   "id": "23a2fd19-8dc4-4430-80dc-da044504e7bb",
   "metadata": {},
   "outputs": [
    {
     "name": "stderr",
     "output_type": "stream",
     "text": [
      "2023-12-15T18:57:37.920 INFO artifact_client - upload_file_to_s3: File uploaded - /home/jovyan/data/nhirschkind/temp.pq -> s3://ml-platform-generic/nhirschkind/thumbnails_v1/fuafua.parquet\n"
     ]
    }
   ],
   "source": [
    "# alternative route: make a table of all the universe ids\n",
    "from roblox_ml.artifacts import ArtifactClient\n",
    "import pandas as pd\n",
    "import numpy as np\n",
    "bdir = '/home/jovyan/data/nhirschkind/big_icons2/train'\n",
    "fnames = os.listdir(bdir)\n",
    "uids = [int(eval(x.split('.')[0])) for x in fnames]\n",
    "\n",
    "parquet = pd.DataFrame({'universe_id': uids})\n",
    "parquet['universe_id'] = parquet['universe_id'].astype(np.int64)\n",
    "parquet.to_parquet('/home/jovyan/data/nhirschkind/temp.pq', index=False, compression='snappy')\n",
    "cli = ArtifactClient()\n",
    "\n",
    "cli.upload_file_to_s3('/home/jovyan/data/nhirschkind/temp.pq', 's3://ml-platform-generic/nhirschkind/thumbnails_v1/fuafua.parquet')\n"
   ]
  },
  {
   "cell_type": "code",
   "execution_count": 17,
   "id": "a3be9e2f-12cb-4d06-921a-6a8509d9fe98",
   "metadata": {},
   "outputs": [
    {
     "data": {
      "text/html": [
       "<div>\n",
       "<style scoped>\n",
       "    .dataframe tbody tr th:only-of-type {\n",
       "        vertical-align: middle;\n",
       "    }\n",
       "\n",
       "    .dataframe tbody tr th {\n",
       "        vertical-align: top;\n",
       "    }\n",
       "\n",
       "    .dataframe thead th {\n",
       "        text-align: right;\n",
       "    }\n",
       "</style>\n",
       "<table border=\"1\" class=\"dataframe\">\n",
       "  <thead>\n",
       "    <tr style=\"text-align: right;\">\n",
       "      <th></th>\n",
       "      <th>universe_id</th>\n",
       "    </tr>\n",
       "  </thead>\n",
       "  <tbody>\n",
       "    <tr>\n",
       "      <th>0</th>\n",
       "      <td>2721131192</td>\n",
       "    </tr>\n",
       "    <tr>\n",
       "      <th>1</th>\n",
       "      <td>3503969316</td>\n",
       "    </tr>\n",
       "    <tr>\n",
       "      <th>2</th>\n",
       "      <td>5109712929</td>\n",
       "    </tr>\n",
       "    <tr>\n",
       "      <th>3</th>\n",
       "      <td>5075216487</td>\n",
       "    </tr>\n",
       "    <tr>\n",
       "      <th>4</th>\n",
       "      <td>4959610056</td>\n",
       "    </tr>\n",
       "  </tbody>\n",
       "</table>\n",
       "</div>"
      ],
      "text/plain": [
       "   universe_id\n",
       "0   2721131192\n",
       "1   3503969316\n",
       "2   5109712929\n",
       "3   5075216487\n",
       "4   4959610056"
      ]
     },
     "execution_count": 17,
     "metadata": {},
     "output_type": "execute_result"
    }
   ],
   "source": [
    "parquet.head()"
   ]
  },
  {
   "cell_type": "code",
   "execution_count": 18,
   "id": "828c1b76-6eca-45af-b891-ba8b8b0d5288",
   "metadata": {
    "scrolled": true
   },
   "outputs": [
    {
     "name": "stderr",
     "output_type": "stream",
     "text": [
      "/tmp/ipykernel_5506/3999120307.py:12: DeprecatedWarning: hive_query_to_dataframe is deprecated. Use the \"sparkconnector\" class instead\n",
      "  dc.hive_query_to_dataframe(add_query)\n",
      "/home/jovyan/.local/lib/python3.10/site-packages/thrift/transport/TSSLSocket.py:53: DeprecationWarning: ssl.PROTOCOL_TLS is deprecated\n",
      "  self._context = ssl.SSLContext(ssl_version)\n",
      "/home/jovyan/.local/lib/python3.10/site-packages/roblox_ml/data/dataconnector.py:99: UserWarning: pandas only supports SQLAlchemy connectable (engine/connection) or database string URI or sqlite3 DBAPI2 connection. Other DBAPI2 objects are not tested. Please consider using SQLAlchemy.\n",
      "  return pd.read_sql(query, self._hive_connection)\n"
     ]
    },
    {
     "ename": "TypeError",
     "evalue": "'NoneType' object is not iterable",
     "output_type": "error",
     "traceback": [
      "\u001b[0;31m---------------------------------------------------------------------------\u001b[0m",
      "\u001b[0;31mTypeError\u001b[0m                                 Traceback (most recent call last)",
      "Cell \u001b[0;32mIn[18], line 12\u001b[0m\n\u001b[1;32m      3\u001b[0m add_query \u001b[38;5;241m=\u001b[39m \u001b[38;5;124m\"\"\"\u001b[39m\n\u001b[1;32m      4\u001b[0m \u001b[38;5;124mCREATE EXTERNAL TABLE IF NOT EXISTS usr.nhirschkind_thumbnails_v1\u001b[39m\n\u001b[1;32m      5\u001b[0m \u001b[38;5;124m(universe_id BIGINT\u001b[39m\n\u001b[0;32m   (...)\u001b[0m\n\u001b[1;32m      8\u001b[0m \u001b[38;5;124mLOCATION \u001b[39m\u001b[38;5;124m'\u001b[39m\u001b[38;5;124ms3://ml-platform-generic/nhirschkind/thumbnails_v1\u001b[39m\u001b[38;5;124m'\u001b[39m\n\u001b[1;32m      9\u001b[0m \u001b[38;5;124m\"\"\"\u001b[39m\n\u001b[1;32m     11\u001b[0m dc \u001b[38;5;241m=\u001b[39m DataConnector()\n\u001b[0;32m---> 12\u001b[0m \u001b[43mdc\u001b[49m\u001b[38;5;241;43m.\u001b[39;49m\u001b[43mhive_query_to_dataframe\u001b[49m\u001b[43m(\u001b[49m\u001b[43madd_query\u001b[49m\u001b[43m)\u001b[49m\n",
      "File \u001b[0;32m~/.local/lib/python3.10/site-packages/deprecation.py:260\u001b[0m, in \u001b[0;36mdeprecated.<locals>._function_wrapper.<locals>._inner\u001b[0;34m(*args, **kwargs)\u001b[0m\n\u001b[1;32m    255\u001b[0m     the_warning \u001b[38;5;241m=\u001b[39m \u001b[38;5;28mcls\u001b[39m(function\u001b[38;5;241m.\u001b[39m\u001b[38;5;18m__name__\u001b[39m, deprecated_in,\n\u001b[1;32m    256\u001b[0m                       removed_in, details)\n\u001b[1;32m    257\u001b[0m     warnings\u001b[38;5;241m.\u001b[39mwarn(the_warning, category\u001b[38;5;241m=\u001b[39m\u001b[38;5;167;01mDeprecationWarning\u001b[39;00m,\n\u001b[1;32m    258\u001b[0m                   stacklevel\u001b[38;5;241m=\u001b[39m\u001b[38;5;241m2\u001b[39m)\n\u001b[0;32m--> 260\u001b[0m \u001b[38;5;28;01mreturn\u001b[39;00m \u001b[43mfunction\u001b[49m\u001b[43m(\u001b[49m\u001b[38;5;241;43m*\u001b[39;49m\u001b[43margs\u001b[49m\u001b[43m,\u001b[49m\u001b[43m \u001b[49m\u001b[38;5;241;43m*\u001b[39;49m\u001b[38;5;241;43m*\u001b[39;49m\u001b[43mkwargs\u001b[49m\u001b[43m)\u001b[49m\n",
      "File \u001b[0;32m~/.local/lib/python3.10/site-packages/roblox_ml/data/dataconnector.py:99\u001b[0m, in \u001b[0;36mDataConnector.hive_query_to_dataframe\u001b[0;34m(self, query)\u001b[0m\n\u001b[1;32m     90\u001b[0m \u001b[38;5;250m\u001b[39m\u001b[38;5;124;03m\"\"\"Sends a query to hive\u001b[39;00m\n\u001b[1;32m     91\u001b[0m \n\u001b[1;32m     92\u001b[0m \u001b[38;5;124;03mArgs:\u001b[39;00m\n\u001b[0;32m   (...)\u001b[0m\n\u001b[1;32m     96\u001b[0m \u001b[38;5;124;03m    a pandas dataframe with the result\u001b[39;00m\n\u001b[1;32m     97\u001b[0m \u001b[38;5;124;03m\"\"\"\u001b[39;00m\n\u001b[1;32m     98\u001b[0m \u001b[38;5;28mself\u001b[39m\u001b[38;5;241m.\u001b[39m_connect_hive()\n\u001b[0;32m---> 99\u001b[0m \u001b[38;5;28;01mreturn\u001b[39;00m \u001b[43mpd\u001b[49m\u001b[38;5;241;43m.\u001b[39;49m\u001b[43mread_sql\u001b[49m\u001b[43m(\u001b[49m\u001b[43mquery\u001b[49m\u001b[43m,\u001b[49m\u001b[43m \u001b[49m\u001b[38;5;28;43mself\u001b[39;49m\u001b[38;5;241;43m.\u001b[39;49m\u001b[43m_hive_connection\u001b[49m\u001b[43m)\u001b[49m\n",
      "File \u001b[0;32m~/.local/lib/python3.10/site-packages/pandas/io/sql.py:564\u001b[0m, in \u001b[0;36mread_sql\u001b[0;34m(sql, con, index_col, coerce_float, params, parse_dates, columns, chunksize)\u001b[0m\n\u001b[1;32m    561\u001b[0m pandas_sql \u001b[38;5;241m=\u001b[39m pandasSQL_builder(con)\n\u001b[1;32m    563\u001b[0m \u001b[38;5;28;01mif\u001b[39;00m \u001b[38;5;28misinstance\u001b[39m(pandas_sql, SQLiteDatabase):\n\u001b[0;32m--> 564\u001b[0m     \u001b[38;5;28;01mreturn\u001b[39;00m \u001b[43mpandas_sql\u001b[49m\u001b[38;5;241;43m.\u001b[39;49m\u001b[43mread_query\u001b[49m\u001b[43m(\u001b[49m\n\u001b[1;32m    565\u001b[0m \u001b[43m        \u001b[49m\u001b[43msql\u001b[49m\u001b[43m,\u001b[49m\n\u001b[1;32m    566\u001b[0m \u001b[43m        \u001b[49m\u001b[43mindex_col\u001b[49m\u001b[38;5;241;43m=\u001b[39;49m\u001b[43mindex_col\u001b[49m\u001b[43m,\u001b[49m\n\u001b[1;32m    567\u001b[0m \u001b[43m        \u001b[49m\u001b[43mparams\u001b[49m\u001b[38;5;241;43m=\u001b[39;49m\u001b[43mparams\u001b[49m\u001b[43m,\u001b[49m\n\u001b[1;32m    568\u001b[0m \u001b[43m        \u001b[49m\u001b[43mcoerce_float\u001b[49m\u001b[38;5;241;43m=\u001b[39;49m\u001b[43mcoerce_float\u001b[49m\u001b[43m,\u001b[49m\n\u001b[1;32m    569\u001b[0m \u001b[43m        \u001b[49m\u001b[43mparse_dates\u001b[49m\u001b[38;5;241;43m=\u001b[39;49m\u001b[43mparse_dates\u001b[49m\u001b[43m,\u001b[49m\n\u001b[1;32m    570\u001b[0m \u001b[43m        \u001b[49m\u001b[43mchunksize\u001b[49m\u001b[38;5;241;43m=\u001b[39;49m\u001b[43mchunksize\u001b[49m\u001b[43m,\u001b[49m\n\u001b[1;32m    571\u001b[0m \u001b[43m    \u001b[49m\u001b[43m)\u001b[49m\n\u001b[1;32m    573\u001b[0m \u001b[38;5;28;01mtry\u001b[39;00m:\n\u001b[1;32m    574\u001b[0m     _is_table_name \u001b[38;5;241m=\u001b[39m pandas_sql\u001b[38;5;241m.\u001b[39mhas_table(sql)\n",
      "File \u001b[0;32m~/.local/lib/python3.10/site-packages/pandas/io/sql.py:2079\u001b[0m, in \u001b[0;36mSQLiteDatabase.read_query\u001b[0;34m(self, sql, index_col, coerce_float, params, parse_dates, chunksize, dtype)\u001b[0m\n\u001b[1;32m   2077\u001b[0m args \u001b[38;5;241m=\u001b[39m _convert_params(sql, params)\n\u001b[1;32m   2078\u001b[0m cursor \u001b[38;5;241m=\u001b[39m \u001b[38;5;28mself\u001b[39m\u001b[38;5;241m.\u001b[39mexecute(\u001b[38;5;241m*\u001b[39margs)\n\u001b[0;32m-> 2079\u001b[0m columns \u001b[38;5;241m=\u001b[39m [col_desc[\u001b[38;5;241m0\u001b[39m] \u001b[38;5;28;01mfor\u001b[39;00m col_desc \u001b[38;5;129;01min\u001b[39;00m cursor\u001b[38;5;241m.\u001b[39mdescription]\n\u001b[1;32m   2081\u001b[0m \u001b[38;5;28;01mif\u001b[39;00m chunksize \u001b[38;5;129;01mis\u001b[39;00m \u001b[38;5;129;01mnot\u001b[39;00m \u001b[38;5;28;01mNone\u001b[39;00m:\n\u001b[1;32m   2082\u001b[0m     \u001b[38;5;28;01mreturn\u001b[39;00m \u001b[38;5;28mself\u001b[39m\u001b[38;5;241m.\u001b[39m_query_iterator(\n\u001b[1;32m   2083\u001b[0m         cursor,\n\u001b[1;32m   2084\u001b[0m         chunksize,\n\u001b[0;32m   (...)\u001b[0m\n\u001b[1;32m   2089\u001b[0m         dtype\u001b[38;5;241m=\u001b[39mdtype,\n\u001b[1;32m   2090\u001b[0m     )\n",
      "\u001b[0;31mTypeError\u001b[0m: 'NoneType' object is not iterable"
     ]
    }
   ],
   "source": [
    "# now add the table to hive\n",
    "\n",
    "add_query = \"\"\"\n",
    "CREATE EXTERNAL TABLE IF NOT EXISTS usr.nhirschkind_thumbnails_v1\n",
    "(universe_id BIGINT\n",
    ")-- these fields should match your panda dataframe schema\n",
    "STORED AS PARQUET\n",
    "LOCATION 's3://ml-platform-generic/nhirschkind/thumbnails_v1'\n",
    "\"\"\"\n",
    "\n",
    "dc = DataConnector()\n",
    "dc.hive_query_to_dataframe(add_query)"
   ]
  },
  {
   "cell_type": "code",
   "execution_count": 23,
   "id": "46210061-e300-4256-b39c-59ad57300938",
   "metadata": {},
   "outputs": [],
   "source": [
    "universe_detail_query = \"\"\"\n",
    "    SELECT\n",
    "        t1.universe_id AS universe_id,\n",
    "        t2.name AS name,\n",
    "        t2.description AS description\n",
    "    FROM usr.nhirschkind_thumbnails_v1 t1 LEFT JOIN\n",
    "    sqlserver.robloxuniverses_universes t2 ON\n",
    "    t1.universe_id=t2.id AND t2.ds='2023-12-01'\n",
    "        \"\"\"\n",
    "\n",
    "dc = DataConnector()\n",
    "result = dc.trino_query_to_dataframe(universe_detail_query)"
   ]
  },
  {
   "cell_type": "code",
   "execution_count": 24,
   "id": "643bb2b5-919e-4fb4-85b0-8054617b0b58",
   "metadata": {},
   "outputs": [
    {
     "data": {
      "text/plain": [
       "359326"
      ]
     },
     "execution_count": 24,
     "metadata": {},
     "output_type": "execute_result"
    }
   ],
   "source": [
    "len(result)"
   ]
  },
  {
   "cell_type": "code",
   "execution_count": 30,
   "id": "c58a2c14-be46-4dc0-8588-1e15959fca75",
   "metadata": {},
   "outputs": [
    {
     "name": "stderr",
     "output_type": "stream",
     "text": [
      "359326it [00:12, 28491.71it/s]\n",
      "100%|██████████| 359326/359326 [00:00<00:00, 534143.79it/s]\n"
     ]
    }
   ],
   "source": [
    "from tqdm import tqdm\n",
    "dictform = {}\n",
    "for i, row in tqdm(result.iterrows()):\n",
    "    dictform[row['universe_id']] = (row['name'], row['description'])\n",
    "\n",
    "prompt_template = 'The thumbnail of a Roblox game called \"{name}\"'\n",
    "metadata = []\n",
    "\n",
    "for uid in tqdm(uids):\n",
    "    name, description = dictform[uid]\n",
    "    if not isinstance(name, str):\n",
    "        continue\n",
    "    if description is None:\n",
    "        description = \"(No description available)\"\n",
    "    #name = name.replace('\\n',' ')\n",
    "    #description = description.replace('\\n', ' ')\n",
    "    prompt = prompt_template.format(name=name, description=description)\n",
    "    metadata.append({'file_name': str(uid) + '.png', 'text': prompt})\n"
   ]
  },
  {
   "cell_type": "code",
   "execution_count": 31,
   "id": "bc461d1b-2cf5-43e5-98b0-2013aa9af95b",
   "metadata": {},
   "outputs": [],
   "source": [
    "import json\n",
    "with open('/home/jovyan/data/nhirschkind/big_icons2/train/metadata.jsonl', 'w') as f:\n",
    "    for entry in metadata:\n",
    "        json.dump(entry, f)\n",
    "        f.write('\\n')"
   ]
  },
  {
   "cell_type": "code",
   "execution_count": null,
   "id": "ccbb0055-dbe3-498d-8707-f866c57a0519",
   "metadata": {},
   "outputs": [
    {
     "name": "stderr",
     "output_type": "stream",
     "text": [
      "  1%|▏         | 5250/359327 [00:11<13:11, 447.60it/s]"
     ]
    },
    {
     "name": "stdout",
     "output_type": "stream",
     "text": [
      "failure\n"
     ]
    },
    {
     "name": "stderr",
     "output_type": "stream",
     "text": [
      "  6%|▌         | 19772/359327 [02:04<50:05, 112.98it/s]"
     ]
    },
    {
     "name": "stdout",
     "output_type": "stream",
     "text": [
      "failure\n"
     ]
    },
    {
     "name": "stderr",
     "output_type": "stream",
     "text": [
      "  7%|▋         | 24476/359327 [02:42<42:05, 132.59it/s]"
     ]
    }
   ],
   "source": [
    "# test all images\n",
    "from PIL import Image\n",
    "import shutil\n",
    "fnames = os.listdir('/home/jovyan/data/nhirschkind/big_icons2/train/')\n",
    "for fname in tqdm(fnames):\n",
    "    try:\n",
    "        Image.open(os.path.join('/home/jovyan/data/nhirschkind/big_icons2/train/', fname))\n",
    "    except Exception as e:\n",
    "        print('failure')\n",
    "        os.remove(os.path.join('/home/jovyan/data/nhirschkind/big_icons2/train/', fname))\n",
    "    "
   ]
  },
  {
   "cell_type": "code",
   "execution_count": null,
   "id": "00c480bd-aa5b-4b19-aab5-3f3b6a8baa6a",
   "metadata": {},
   "outputs": [],
   "source": []
  }
 ],
 "metadata": {
  "kernelspec": {
   "display_name": "Python 3 (ipykernel)",
   "language": "python",
   "name": "python3"
  },
  "language_info": {
   "codemirror_mode": {
    "name": "ipython",
    "version": 3
   },
   "file_extension": ".py",
   "mimetype": "text/x-python",
   "name": "python",
   "nbconvert_exporter": "python",
   "pygments_lexer": "ipython3",
   "version": "3.10.12"
  }
 },
 "nbformat": 4,
 "nbformat_minor": 5
}

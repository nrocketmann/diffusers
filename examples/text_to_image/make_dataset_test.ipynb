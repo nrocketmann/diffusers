{
 "cells": [
  {
   "cell_type": "code",
   "execution_count": 2,
   "id": "54a8b7e1-9c1d-4106-84ba-bbef7cd04671",
   "metadata": {},
   "outputs": [
    {
     "name": "stderr",
     "output_type": "stream",
     "text": [
      "/home/jovyan/.local/lib/python3.10/site-packages/tqdm/auto.py:22: TqdmWarning: IProgress not found. Please update jupyter and ipywidgets. See https://ipywidgets.readthedocs.io/en/stable/user_install.html\n",
      "  from .autonotebook import tqdm as notebook_tqdm\n"
     ]
    }
   ],
   "source": [
    "from roblox_ml.data import DataConnector\n",
    "import numpy as np\n",
    "import json\n",
    "import datasets\n",
    "import os\n",
    "import shutil"
   ]
  },
  {
   "cell_type": "code",
   "execution_count": 7,
   "id": "d8facde8-27a6-4d2f-8197-b6139f37db9a",
   "metadata": {},
   "outputs": [
    {
     "name": "stderr",
     "output_type": "stream",
     "text": [
      "/tmp/ipykernel_915/4185519867.py:17: DeprecatedWarning: hive_query_to_dataframe is deprecated. Use the \"sparkconnector\" class instead\n",
      "  result = dc.hive_query_to_dataframe(universe_detail_query)\n"
     ]
    }
   ],
   "source": [
    "universe_detail_query = \"\"\"\n",
    "    SELECT\n",
    "        id AS universe_id,\n",
    "        name AS name,\n",
    "        description AS description\n",
    "    FROM sqlserver.robloxuniverses_universes WHERE \n",
    "        \"\"\"\n",
    "\n",
    "bdir = '/home/jovyan/data/nhirschkind/icon_sample/train'\n",
    "fnames = os.listdir(bdir)\n",
    "uids = [int(eval(x.split('.')[0])) for x in fnames]\n",
    "for uid in uids[:-1]:\n",
    "    universe_detail_query += \"ds='2023-12-01' AND id=\" + str(uid) + ' OR\\n'\n",
    "universe_detail_query += \"ds='2023-12-01' AND id=\" + str(uids[-1])\n",
    "\n",
    "dc = DataConnector()\n",
    "result = dc.hive_query_to_dataframe(universe_detail_query)"
   ]
  },
  {
   "cell_type": "code",
   "execution_count": 15,
   "id": "643bb2b5-919e-4fb4-85b0-8054617b0b58",
   "metadata": {},
   "outputs": [
    {
     "data": {
      "text/html": [
       "<div>\n",
       "<style scoped>\n",
       "    .dataframe tbody tr th:only-of-type {\n",
       "        vertical-align: middle;\n",
       "    }\n",
       "\n",
       "    .dataframe tbody tr th {\n",
       "        vertical-align: top;\n",
       "    }\n",
       "\n",
       "    .dataframe thead th {\n",
       "        text-align: right;\n",
       "    }\n",
       "</style>\n",
       "<table border=\"1\" class=\"dataframe\">\n",
       "  <thead>\n",
       "    <tr style=\"text-align: right;\">\n",
       "      <th></th>\n",
       "      <th>universe_id</th>\n",
       "      <th>name</th>\n",
       "      <th>description</th>\n",
       "    </tr>\n",
       "  </thead>\n",
       "  <tbody>\n",
       "    <tr>\n",
       "      <th>0</th>\n",
       "      <td>2305124262</td>\n",
       "      <td>Water Park World [Beta]</td>\n",
       "      <td>Water Park World is a tycoon game in which you...</td>\n",
       "    </tr>\n",
       "    <tr>\n",
       "      <th>1</th>\n",
       "      <td>2308385837</td>\n",
       "      <td>Panem | District 12</td>\n",
       "      <td>In order to gain access to District Twelve, yo...</td>\n",
       "    </tr>\n",
       "    <tr>\n",
       "      <th>2</th>\n",
       "      <td>2308525745</td>\n",
       "      <td>Mr. Sti t c hy! Piggy Jumpscare Test</td>\n",
       "      <td>Hello !, This Game Is A FanGame Of The Famous ...</td>\n",
       "    </tr>\n",
       "    <tr>\n",
       "      <th>3</th>\n",
       "      <td>2277158287</td>\n",
       "      <td>Cruise Ship Sinking</td>\n",
       "      <td>She Hit a Rock And Sunk\\r\\nCan You Survive Her...</td>\n",
       "    </tr>\n",
       "    <tr>\n",
       "      <th>4</th>\n",
       "      <td>2257350744</td>\n",
       "      <td>백제 풍납토성</td>\n",
       "      <td>현재 개발 중 입니다.\\r\\n맵은 개발이 완료 되었고 현재 복장이나 스크립트 작성으...</td>\n",
       "    </tr>\n",
       "  </tbody>\n",
       "</table>\n",
       "</div>"
      ],
      "text/plain": [
       "   universe_id                                  name  \\\n",
       "0   2305124262               Water Park World [Beta]   \n",
       "1   2308385837                  Panem | District 12    \n",
       "2   2308525745  Mr. Sti t c hy! Piggy Jumpscare Test   \n",
       "3   2277158287                   Cruise Ship Sinking   \n",
       "4   2257350744                               백제 풍납토성   \n",
       "\n",
       "                                         description  \n",
       "0  Water Park World is a tycoon game in which you...  \n",
       "1  In order to gain access to District Twelve, yo...  \n",
       "2  Hello !, This Game Is A FanGame Of The Famous ...  \n",
       "3  She Hit a Rock And Sunk\\r\\nCan You Survive Her...  \n",
       "4  현재 개발 중 입니다.\\r\\n맵은 개발이 완료 되었고 현재 복장이나 스크립트 작성으...  "
      ]
     },
     "execution_count": 15,
     "metadata": {},
     "output_type": "execute_result"
    }
   ],
   "source": [
    "result.head()"
   ]
  },
  {
   "cell_type": "code",
   "execution_count": 26,
   "id": "c58a2c14-be46-4dc0-8588-1e15959fca75",
   "metadata": {},
   "outputs": [],
   "source": [
    "dictform = {}\n",
    "for i, row in result.iterrows():\n",
    "    dictform[row['universe_id']] = (row['name'], row['description'])\n",
    "\n",
    "prompt_template = 'The thumbnail of a Roblox game called \"{name}\", described by its creator as \"{description}\"'\n",
    "metadata = []\n",
    "for uid in uids:\n",
    "    name, description = dictform[uid]\n",
    "    if not isinstance(name, str):\n",
    "        continue\n",
    "    if description is None:\n",
    "        description = \"(No description available)\"\n",
    "    #name = name.replace('\\n',' ')\n",
    "    #description = description.replace('\\n', ' ')\n",
    "    prompt = prompt_template.format(name=name, description=description)\n",
    "    metadata.append({'file_name': str(uid) + '.png', 'text': prompt})\n"
   ]
  },
  {
   "cell_type": "code",
   "execution_count": 27,
   "id": "bc461d1b-2cf5-43e5-98b0-2013aa9af95b",
   "metadata": {},
   "outputs": [],
   "source": [
    "import json\n",
    "with open('/home/jovyan/data/nhirschkind/icon_sample/train/metadata.jsonl', 'w') as f:\n",
    "    for entry in metadata:\n",
    "        json.dump(entry, f)\n",
    "        f.write('\\n')"
   ]
  },
  {
   "cell_type": "code",
   "execution_count": null,
   "id": "ccbb0055-dbe3-498d-8707-f866c57a0519",
   "metadata": {},
   "outputs": [],
   "source": []
  }
 ],
 "metadata": {
  "kernelspec": {
   "display_name": "Python 3 (ipykernel)",
   "language": "python",
   "name": "python3"
  },
  "language_info": {
   "codemirror_mode": {
    "name": "ipython",
    "version": 3
   },
   "file_extension": ".py",
   "mimetype": "text/x-python",
   "name": "python",
   "nbconvert_exporter": "python",
   "pygments_lexer": "ipython3",
   "version": "3.10.12"
  }
 },
 "nbformat": 4,
 "nbformat_minor": 5
}
